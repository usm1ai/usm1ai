{
  "nbformat": 4,
  "nbformat_minor": 0,
  "metadata": {
    "colab": {
      "provenance": [],
      "mount_file_id": "1wYAc6nbSShJ2LW__fvPyUXenBbWXCLMO",
      "authorship_tag": "ABX9TyMJpjdBWhpJrqTxBsFV3u6p",
      "include_colab_link": true
    },
    "kernelspec": {
      "name": "python3",
      "display_name": "Python 3"
    },
    "language_info": {
      "name": "python"
    }
  },
  "cells": [
    {
      "cell_type": "markdown",
      "metadata": {
        "id": "view-in-github",
        "colab_type": "text"
      },
      "source": [
        "<a href=\"https://colab.research.google.com/github/usm1ai/usm1ai/blob/main/Feature_extraction.ipynb\" target=\"_parent\"><img src=\"https://colab.research.google.com/assets/colab-badge.svg\" alt=\"Open In Colab\"/></a>"
      ]
    },
    {
      "cell_type": "code",
      "source": [
        "from google.colab import drive\n",
        "drive.mount('/content/drive')"
      ],
      "metadata": {
        "colab": {
          "base_uri": "https://localhost:8080/"
        },
        "id": "2wBUPCVazXnl",
        "outputId": "13eb996e-1473-4869-8d67-97890991b6cf"
      },
      "execution_count": null,
      "outputs": [
        {
          "output_type": "stream",
          "name": "stdout",
          "text": [
            "Drive already mounted at /content/drive; to attempt to forcibly remount, call drive.mount(\"/content/drive\", force_remount=True).\n"
          ]
        }
      ]
    },
    {
      "cell_type": "code",
      "source": [
        "%cd /content/drive/MyDrive/IEEE Access JB/ActLoc10-main\n"
      ],
      "metadata": {
        "colab": {
          "base_uri": "https://localhost:8080/"
        },
        "id": "Yv0b02bRzYkd",
        "outputId": "f64bfdca-532e-4870-df12-e13ddbab20ac"
      },
      "execution_count": null,
      "outputs": [
        {
          "output_type": "stream",
          "name": "stdout",
          "text": [
            "/content/drive/MyDrive/IEEE Access JB/ActLoc10-main\n"
          ]
        }
      ]
    },
    {
      "cell_type": "code",
      "execution_count": null,
      "metadata": {
        "id": "HlNYm9GlteSr"
      },
      "outputs": [],
      "source": [
        "# Import Libraries\n",
        "\n",
        "import pandas as pd\n",
        "import numpy as np\n",
        "from collections import Counter\n",
        "import matplotlib.pyplot as plt\n",
        "import pickle\n",
        "from scipy.signal import cheby2, filtfilt"
      ]
    },
    {
      "cell_type": "code",
      "source": [
        "# Import Project  Modules\n",
        "\n",
        "from Stats import calculate_skewness, calculate_kurtosis\n",
        "from ED import false_nearest_neighbors\n",
        "from MLE import estimate_lyapunov_exponent\n",
        "from MFCC import extract_mfcc\n",
        "from Stats import calculate_skewness\n",
        "from Stats import calculate_kurtosis\n",
        "from FD import calculate_fractal_dimension\n",
        "from Steps import count_steps\n",
        "from Step_len import calculate_step_lengths, find_peaks, find_valleys\n",
        "from Heading import calculate_heading_direction\n",
        "from GA import genetic_algorithm\n",
        "from sklearn.model_selection import train_test_split"
      ],
      "metadata": {
        "id": "gmW1lY46zo3N"
      },
      "execution_count": null,
      "outputs": []
    },
    {
      "cell_type": "code",
      "source": [
        "acc_wtc = pd.DataFrame(np.load('/content/drive/MyDrive/IEEE Access JB/IEEE Access JB/acc_wtc.npy', allow_pickle=True))\n",
        "acc_mob = pd.DataFrame(np.load('/content/drive/MyDrive/IEEE Access JB/IEEE Access JB/acc_mob.npy', allow_pickle=True))\n",
        "gps_wtc = pd.DataFrame(np.load('/content/drive/MyDrive/IEEE Access JB/IEEE Access JB/gps_wtc.npy', allow_pickle=True))\n",
        "gps_mob = pd.DataFrame(np.load('/content/drive/MyDrive/IEEE Access JB/IEEE Access JB/gps_mob.npy', allow_pickle=True))\n",
        "ori_wtc = pd.DataFrame(np.load('/content/drive/MyDrive/IEEE Access JB/IEEE Access JB/ori_wtc.npy', allow_pickle=True))\n",
        "ori_mob = pd.DataFrame(np.load('/content/drive/MyDrive/IEEE Access JB/IEEE Access JB/ori_mob.npy', allow_pickle=True))\n",
        "\n",
        "acc_wtc = acc_wtc.rename(columns={0: 'acc_x', 1: 'acc_y', 2: 'acc_z', 3: 'location', 4: 'activity'})\n",
        "acc_mob = acc_mob.rename(columns={0: 'acc_x', 1: 'acc_y', 2: 'acc_z', 3: 'location', 4: 'activity'})\n",
        "ori_wtc = ori_wtc.rename(columns={0: 'ori_x', 1: 'ori_y', 2: 'ori_z', 3: 'location', 4: 'activity'})\n",
        "ori_mob = ori_mob.rename(columns={0: 'ori_x', 1: 'ori_y', 2: 'ori_z', 3: 'location', 4: 'activity'})\n",
        "gps_wtc = gps_wtc.rename(columns={0: 'long', 1: 'lat', 2: 'location', 3: 'activity'})\n",
        "gps_mob = gps_mob.rename(columns={0: 'long', 1: 'lat', 2: 'location', 3: 'activity'})"
      ],
      "metadata": {
        "id": "RE35W7Bhv5SW"
      },
      "execution_count": null,
      "outputs": []
    },
    {
      "cell_type": "code",
      "source": [
        "acc_activity_wtc = acc_wtc.drop(['location'], axis=1)\n",
        "acc_location_wtc = acc_wtc.drop(['activity'], axis=1)\n",
        "acc_activity_mob = acc_mob.drop(['location'], axis=1)\n",
        "acc_location_mob = acc_mob.drop(['activity'], axis=1)\n",
        "\n",
        "ori_activity_wtc = ori_wtc.drop(['location'], axis=1)\n",
        "ori_location_wtc = ori_wtc.drop(['activity'], axis=1)\n",
        "ori_activity_mob = ori_mob.drop(['location'], axis=1)\n",
        "ori_location_mob = ori_mob.drop(['activity'], axis=1)\n",
        "\n",
        "gps_activity_wtc = gps_wtc.drop(['location'], axis=1)\n",
        "gps_location_wtc = gps_wtc.drop(['activity'], axis=1)\n",
        "gps_activity_mob = gps_mob.drop(['location'], axis=1)\n",
        "gps_location_mob = gps_mob.drop(['activity'], axis=1)"
      ],
      "metadata": {
        "id": "A3SUFugwv6v2"
      },
      "execution_count": null,
      "outputs": []
    },
    {
      "cell_type": "code",
      "source": [
        "def pick_samples_activity(data, num_samples_per_class):\n",
        "  classes = data['activity'].unique()\n",
        "  sampled_data = pd.DataFrame()\n",
        "  for class_label in classes:\n",
        "    class_data = data[data['activity'] == class_label]\n",
        "    num_samples = min(num_samples_per_class, len(class_data))\n",
        "    sampled_class_data = class_data.sample(n=num_samples)\n",
        "    sampled_data = pd.concat([sampled_data, sampled_class_data])\n",
        "  return sampled_data\n",
        "\n",
        "sampled_acc_activity_wtc = pick_samples_activity(acc_activity_wtc, 300).reset_index(drop=True)\n",
        "sampled_acc_activity_mob = pick_samples_activity(acc_activity_mob, 300).reset_index(drop=True)\n",
        "sampled_ori_activity_wtc = pick_samples_activity(ori_activity_wtc, 300).reset_index(drop=True)\n",
        "sampled_ori_activity_mob = pick_samples_activity(ori_activity_mob, 300).reset_index(drop=True)\n",
        "sampled_gps_activity_wtc = pick_samples_activity(gps_activity_wtc, 300).reset_index(drop=True)\n",
        "sampled_gps_activity_mob = pick_samples_activity(gps_activity_mob, 300).reset_index(drop=True)\n"
      ],
      "metadata": {
        "id": "kI5wfZ-lxU7G"
      },
      "execution_count": null,
      "outputs": []
    },
    {
      "cell_type": "code",
      "source": [
        "def pick_samples_location(data, num_samples_per_class):\n",
        "  classes = data['location'].unique()\n",
        "  sampled_data = pd.DataFrame()\n",
        "  for class_label in classes:\n",
        "    class_data = data[data['location'] == class_label]\n",
        "    num_samples = min(num_samples_per_class, len(class_data))\n",
        "    sampled_class_data = class_data.sample(n=num_samples)\n",
        "    sampled_data = pd.concat([sampled_data, sampled_class_data])\n",
        "  return sampled_data\n",
        "\n",
        "sampled_acc_location_wtc = pick_samples_location(acc_location_wtc, 300).reset_index(drop=True)\n",
        "sampled_acc_location_mob = pick_samples_location(acc_location_mob, 300).reset_index(drop=True)\n",
        "sampled_ori_location_wtc = pick_samples_location(ori_location_wtc, 300).reset_index(drop=True)\n",
        "sampled_ori_location_mob = pick_samples_location(ori_location_mob, 300).reset_index(drop=True)\n",
        "sampled_gps_location_wtc = pick_samples_location(gps_location_wtc, 300).reset_index(drop=True)\n",
        "sampled_gps_location_mob = pick_samples_location(gps_location_mob, 300).reset_index(drop=True)"
      ],
      "metadata": {
        "id": "W2AiAFXgxXNd"
      },
      "execution_count": null,
      "outputs": []
    },
    {
      "cell_type": "code",
      "source": [
        "acc_activity = pd.concat([sampled_acc_activity_wtc, sampled_acc_activity_mob], ignore_index=True)\n",
        "acc_location = pd.concat([sampled_acc_location_wtc, sampled_acc_location_mob], ignore_index=True)\n",
        "\n",
        "ori_activity = pd.concat([sampled_ori_activity_wtc, sampled_ori_activity_mob], ignore_index=True)\n",
        "ori_location = pd.concat([sampled_ori_location_wtc, sampled_ori_location_mob], ignore_index=True)\n",
        "\n",
        "gps_activity = pd.concat([sampled_gps_activity_wtc, sampled_gps_activity_mob], ignore_index=True)\n",
        "gps_location = pd.concat([sampled_gps_location_wtc, sampled_gps_location_mob], ignore_index=True)"
      ],
      "metadata": {
        "id": "EqhTy6uIxa79"
      },
      "execution_count": null,
      "outputs": []
    },
    {
      "cell_type": "code",
      "source": [
        "Counter(acc_activity['activity'])"
      ],
      "metadata": {
        "colab": {
          "base_uri": "https://localhost:8080/"
        },
        "id": "sxpREuHR42ii",
        "outputId": "94825075-8a59-4f17-b3cc-784f63c457da"
      },
      "execution_count": null,
      "outputs": [
        {
          "output_type": "execute_result",
          "data": {
            "text/plain": [
              "Counter({'Climbing (down)': 600,\n",
              "         'Climbing (up)': 600,\n",
              "         'Sitting': 600,\n",
              "         'Standing': 600,\n",
              "         'Walking': 600,\n",
              "         'Recumbency': 600,\n",
              "         'Jumping': 214,\n",
              "         'Running': 600})"
            ]
          },
          "metadata": {},
          "execution_count": 9
        }
      ]
    },
    {
      "cell_type": "code",
      "source": [
        "walking_samples = acc_activity[acc_activity['activity'] == 'Walking'].reset_index(drop=True)\n",
        "Sitting_samples = acc_activity[acc_activity['activity'] == 'Sitting'].reset_index(drop=True)\n",
        "Standing_samples = acc_activity[acc_activity['activity'] == 'Standing'].reset_index(drop=True)\n",
        "Climbing_up_samples = acc_activity[acc_activity['activity'] == 'Climbing (up)'].reset_index(drop=True)\n",
        "Recumbency_samples = acc_activity[acc_activity['activity'] == 'Recumbency'].reset_index(drop=True)\n",
        "Climbing_down_samples = acc_activity[acc_activity['activity'] == 'Climbing (down)'].reset_index(drop=True)\n",
        "Jumping_samples = acc_activity[acc_activity['activity'] == 'Jumping'].reset_index(drop=True)\n",
        "Running_samples = acc_activity[acc_activity['activity'] == 'Running'].reset_index(drop=True)\n",
        "\n",
        "all_activities = [walking_samples, Sitting_samples, Climbing_up_samples, Running_samples]"
      ],
      "metadata": {
        "id": "nEXejhpJxc9N"
      },
      "execution_count": null,
      "outputs": []
    },
    {
      "cell_type": "code",
      "source": [
        "from scipy.stats import skew, kurtosis\n",
        "signal_length = 600\n",
        "num_windows = 4\n",
        "window_length = 60\n",
        "\n",
        "order = 4          # Filter order\n",
        "fs = 500.0         # Sampling frequency (Hz)\n",
        "fc = 50.0          # Cutoff frequency (Hz)\n",
        "rp = 5             # Passband ripple (dB)\n",
        "b, a = cheby2(order, rp, fc, fs=fs, analog=False, output='ba')\n",
        "\n",
        "win_name = ['Walking', 'Sitting', 'Climbing-Up', 'Running']\n",
        "colors = ['blue', 'orange', 'brown', 'yellow']\n",
        "fig, axes = plt.subplots(2, 2, figsize=(10, 8), sharex=True, sharey=True)\n",
        "\n",
        "for idx, sig in enumerate(all_activities):\n",
        "  signal = np.array(sig['acc_z'])\n",
        "  # Apply Blackman window\n",
        "  window = np.blackman(60)\n",
        "  windows = [signal[i:i+window_length] * window for i in range(0, signal_length - window_length + 1, window_length)]\n",
        "  feat_array=[]\n",
        "  for win in windows:\n",
        "      filtered_signal = filtfilt(b, a, win)\n",
        "      feat = skew(win)\n",
        "      feat_array.append(feat)\n",
        "\n",
        "  axes[idx].plot(feat_array, color=colors[idx], alpha=0.6, linewidth=2)\n",
        "  axes[idx].set_title(win_name[idx])\n",
        "  axes[idx].grid(True)\n",
        "  axes[idx].spines['top'].set_visible(False)\n",
        "  axes[idx].spines['right'].set_visible(False)\n",
        "  axes[idx].spines['left'].set_visible(False)\n",
        "  axes[idx].spines['bottom'].set_visible(False)\n",
        "  axes[idx].set_xlabel('Time (seconds)')\n",
        "  axes[idx].set_ylabel('Amplitude')\n",
        "plt.tight_layout()\n",
        "plt.show()\n"
      ],
      "metadata": {
        "colab": {
          "base_uri": "https://localhost:8080/",
          "height": 1000
        },
        "id": "l5JRRBTSy7s-",
        "outputId": "6117e57d-1691-421e-f0f2-c2aa8ba4c23c"
      },
      "execution_count": null,
      "outputs": [
        {
          "output_type": "error",
          "ename": "ValueError",
          "evalue": "data type <class 'numpy.object_'> not inexact",
          "traceback": [
            "\u001b[0;31m---------------------------------------------------------------------------\u001b[0m",
            "\u001b[0;31mValueError\u001b[0m                                Traceback (most recent call last)",
            "\u001b[0;32m<ipython-input-18-5b41320a9b33>\u001b[0m in \u001b[0;36m<cell line: 16>\u001b[0;34m()\u001b[0m\n\u001b[1;32m     22\u001b[0m   \u001b[0;32mfor\u001b[0m \u001b[0mwin\u001b[0m \u001b[0;32min\u001b[0m \u001b[0mwindows\u001b[0m\u001b[0;34m:\u001b[0m\u001b[0;34m\u001b[0m\u001b[0;34m\u001b[0m\u001b[0m\n\u001b[1;32m     23\u001b[0m       \u001b[0mfiltered_signal\u001b[0m \u001b[0;34m=\u001b[0m \u001b[0mfiltfilt\u001b[0m\u001b[0;34m(\u001b[0m\u001b[0mb\u001b[0m\u001b[0;34m,\u001b[0m \u001b[0ma\u001b[0m\u001b[0;34m,\u001b[0m \u001b[0mwin\u001b[0m\u001b[0;34m)\u001b[0m\u001b[0;34m\u001b[0m\u001b[0;34m\u001b[0m\u001b[0m\n\u001b[0;32m---> 24\u001b[0;31m       \u001b[0mfeat\u001b[0m \u001b[0;34m=\u001b[0m \u001b[0mskew\u001b[0m\u001b[0;34m(\u001b[0m\u001b[0mwin\u001b[0m\u001b[0;34m)\u001b[0m\u001b[0;34m\u001b[0m\u001b[0;34m\u001b[0m\u001b[0m\n\u001b[0m\u001b[1;32m     25\u001b[0m       \u001b[0mfeat_array\u001b[0m\u001b[0;34m.\u001b[0m\u001b[0mappend\u001b[0m\u001b[0;34m(\u001b[0m\u001b[0mfeat\u001b[0m\u001b[0;34m)\u001b[0m\u001b[0;34m\u001b[0m\u001b[0;34m\u001b[0m\u001b[0m\n\u001b[1;32m     26\u001b[0m \u001b[0;34m\u001b[0m\u001b[0m\n",
            "\u001b[0;32m/usr/local/lib/python3.10/dist-packages/scipy/stats/_axis_nan_policy.py\u001b[0m in \u001b[0;36maxis_nan_policy_wrapper\u001b[0;34m(***failed resolving arguments***)\u001b[0m\n\u001b[1;32m    521\u001b[0m                 \u001b[0;32mif\u001b[0m \u001b[0msentinel\u001b[0m\u001b[0;34m:\u001b[0m\u001b[0;34m\u001b[0m\u001b[0;34m\u001b[0m\u001b[0m\n\u001b[1;32m    522\u001b[0m                     \u001b[0msamples\u001b[0m \u001b[0;34m=\u001b[0m \u001b[0m_remove_sentinel\u001b[0m\u001b[0;34m(\u001b[0m\u001b[0msamples\u001b[0m\u001b[0;34m,\u001b[0m \u001b[0mpaired\u001b[0m\u001b[0;34m,\u001b[0m \u001b[0msentinel\u001b[0m\u001b[0;34m)\u001b[0m\u001b[0;34m\u001b[0m\u001b[0;34m\u001b[0m\u001b[0m\n\u001b[0;32m--> 523\u001b[0;31m                 \u001b[0mres\u001b[0m \u001b[0;34m=\u001b[0m \u001b[0mhypotest_fun_out\u001b[0m\u001b[0;34m(\u001b[0m\u001b[0;34m*\u001b[0m\u001b[0msamples\u001b[0m\u001b[0;34m,\u001b[0m \u001b[0;34m**\u001b[0m\u001b[0mkwds\u001b[0m\u001b[0;34m)\u001b[0m\u001b[0;34m\u001b[0m\u001b[0;34m\u001b[0m\u001b[0m\n\u001b[0m\u001b[1;32m    524\u001b[0m                 \u001b[0mres\u001b[0m \u001b[0;34m=\u001b[0m \u001b[0mresult_to_tuple\u001b[0m\u001b[0;34m(\u001b[0m\u001b[0mres\u001b[0m\u001b[0;34m)\u001b[0m\u001b[0;34m\u001b[0m\u001b[0;34m\u001b[0m\u001b[0m\n\u001b[1;32m    525\u001b[0m                 \u001b[0mres\u001b[0m \u001b[0;34m=\u001b[0m \u001b[0m_add_reduced_axes\u001b[0m\u001b[0;34m(\u001b[0m\u001b[0mres\u001b[0m\u001b[0;34m,\u001b[0m \u001b[0mreduced_axes\u001b[0m\u001b[0;34m,\u001b[0m \u001b[0mkeepdims\u001b[0m\u001b[0;34m)\u001b[0m\u001b[0;34m\u001b[0m\u001b[0;34m\u001b[0m\u001b[0m\n",
            "\u001b[0;32m/usr/local/lib/python3.10/dist-packages/scipy/stats/_stats_py.py\u001b[0m in \u001b[0;36mskew\u001b[0;34m(a, axis, bias, nan_policy)\u001b[0m\n\u001b[1;32m   1192\u001b[0m \u001b[0;34m\u001b[0m\u001b[0m\n\u001b[1;32m   1193\u001b[0m     \u001b[0mmean\u001b[0m \u001b[0;34m=\u001b[0m \u001b[0ma\u001b[0m\u001b[0;34m.\u001b[0m\u001b[0mmean\u001b[0m\u001b[0;34m(\u001b[0m\u001b[0maxis\u001b[0m\u001b[0;34m,\u001b[0m \u001b[0mkeepdims\u001b[0m\u001b[0;34m=\u001b[0m\u001b[0;32mTrue\u001b[0m\u001b[0;34m)\u001b[0m\u001b[0;34m\u001b[0m\u001b[0;34m\u001b[0m\u001b[0m\n\u001b[0;32m-> 1194\u001b[0;31m     \u001b[0mm2\u001b[0m \u001b[0;34m=\u001b[0m \u001b[0m_moment\u001b[0m\u001b[0;34m(\u001b[0m\u001b[0ma\u001b[0m\u001b[0;34m,\u001b[0m \u001b[0;36m2\u001b[0m\u001b[0;34m,\u001b[0m \u001b[0maxis\u001b[0m\u001b[0;34m,\u001b[0m \u001b[0mmean\u001b[0m\u001b[0;34m=\u001b[0m\u001b[0mmean\u001b[0m\u001b[0;34m)\u001b[0m\u001b[0;34m\u001b[0m\u001b[0;34m\u001b[0m\u001b[0m\n\u001b[0m\u001b[1;32m   1195\u001b[0m     \u001b[0mm3\u001b[0m \u001b[0;34m=\u001b[0m \u001b[0m_moment\u001b[0m\u001b[0;34m(\u001b[0m\u001b[0ma\u001b[0m\u001b[0;34m,\u001b[0m \u001b[0;36m3\u001b[0m\u001b[0;34m,\u001b[0m \u001b[0maxis\u001b[0m\u001b[0;34m,\u001b[0m \u001b[0mmean\u001b[0m\u001b[0;34m=\u001b[0m\u001b[0mmean\u001b[0m\u001b[0;34m)\u001b[0m\u001b[0;34m\u001b[0m\u001b[0;34m\u001b[0m\u001b[0m\n\u001b[1;32m   1196\u001b[0m     \u001b[0;32mwith\u001b[0m \u001b[0mnp\u001b[0m\u001b[0;34m.\u001b[0m\u001b[0merrstate\u001b[0m\u001b[0;34m(\u001b[0m\u001b[0mall\u001b[0m\u001b[0;34m=\u001b[0m\u001b[0;34m'ignore'\u001b[0m\u001b[0;34m)\u001b[0m\u001b[0;34m:\u001b[0m\u001b[0;34m\u001b[0m\u001b[0;34m\u001b[0m\u001b[0m\n",
            "\u001b[0;32m/usr/local/lib/python3.10/dist-packages/scipy/stats/_stats_py.py\u001b[0m in \u001b[0;36m_moment\u001b[0;34m(a, moment, axis, mean)\u001b[0m\n\u001b[1;32m   1070\u001b[0m         \u001b[0ma_zero_mean\u001b[0m \u001b[0;34m=\u001b[0m \u001b[0ma\u001b[0m \u001b[0;34m-\u001b[0m \u001b[0mmean\u001b[0m\u001b[0;34m\u001b[0m\u001b[0;34m\u001b[0m\u001b[0m\n\u001b[1;32m   1071\u001b[0m \u001b[0;34m\u001b[0m\u001b[0m\n\u001b[0;32m-> 1072\u001b[0;31m         \u001b[0meps\u001b[0m \u001b[0;34m=\u001b[0m \u001b[0mnp\u001b[0m\u001b[0;34m.\u001b[0m\u001b[0mfinfo\u001b[0m\u001b[0;34m(\u001b[0m\u001b[0ma_zero_mean\u001b[0m\u001b[0;34m.\u001b[0m\u001b[0mdtype\u001b[0m\u001b[0;34m)\u001b[0m\u001b[0;34m.\u001b[0m\u001b[0mresolution\u001b[0m \u001b[0;34m*\u001b[0m \u001b[0;36m10\u001b[0m\u001b[0;34m\u001b[0m\u001b[0;34m\u001b[0m\u001b[0m\n\u001b[0m\u001b[1;32m   1073\u001b[0m         \u001b[0;32mwith\u001b[0m \u001b[0mnp\u001b[0m\u001b[0;34m.\u001b[0m\u001b[0merrstate\u001b[0m\u001b[0;34m(\u001b[0m\u001b[0mdivide\u001b[0m\u001b[0;34m=\u001b[0m\u001b[0;34m'ignore'\u001b[0m\u001b[0;34m,\u001b[0m \u001b[0minvalid\u001b[0m\u001b[0;34m=\u001b[0m\u001b[0;34m'ignore'\u001b[0m\u001b[0;34m)\u001b[0m\u001b[0;34m:\u001b[0m\u001b[0;34m\u001b[0m\u001b[0;34m\u001b[0m\u001b[0m\n\u001b[1;32m   1074\u001b[0m             rel_diff = np.max(np.abs(a_zero_mean), axis=axis,\n",
            "\u001b[0;32m/usr/local/lib/python3.10/dist-packages/numpy/core/getlimits.py\u001b[0m in \u001b[0;36m__new__\u001b[0;34m(cls, dtype)\u001b[0m\n\u001b[1;32m    514\u001b[0m             \u001b[0mdtype\u001b[0m \u001b[0;34m=\u001b[0m \u001b[0mnewdtype\u001b[0m\u001b[0;34m\u001b[0m\u001b[0;34m\u001b[0m\u001b[0m\n\u001b[1;32m    515\u001b[0m         \u001b[0;32mif\u001b[0m \u001b[0;32mnot\u001b[0m \u001b[0missubclass\u001b[0m\u001b[0;34m(\u001b[0m\u001b[0mdtype\u001b[0m\u001b[0;34m,\u001b[0m \u001b[0mnumeric\u001b[0m\u001b[0;34m.\u001b[0m\u001b[0minexact\u001b[0m\u001b[0;34m)\u001b[0m\u001b[0;34m:\u001b[0m\u001b[0;34m\u001b[0m\u001b[0;34m\u001b[0m\u001b[0m\n\u001b[0;32m--> 516\u001b[0;31m             \u001b[0;32mraise\u001b[0m \u001b[0mValueError\u001b[0m\u001b[0;34m(\u001b[0m\u001b[0;34m\"data type %r not inexact\"\u001b[0m \u001b[0;34m%\u001b[0m \u001b[0;34m(\u001b[0m\u001b[0mdtype\u001b[0m\u001b[0;34m)\u001b[0m\u001b[0;34m)\u001b[0m\u001b[0;34m\u001b[0m\u001b[0;34m\u001b[0m\u001b[0m\n\u001b[0m\u001b[1;32m    517\u001b[0m         \u001b[0mobj\u001b[0m \u001b[0;34m=\u001b[0m \u001b[0mcls\u001b[0m\u001b[0;34m.\u001b[0m\u001b[0m_finfo_cache\u001b[0m\u001b[0;34m.\u001b[0m\u001b[0mget\u001b[0m\u001b[0;34m(\u001b[0m\u001b[0mdtype\u001b[0m\u001b[0;34m)\u001b[0m\u001b[0;34m\u001b[0m\u001b[0;34m\u001b[0m\u001b[0m\n\u001b[1;32m    518\u001b[0m         \u001b[0;32mif\u001b[0m \u001b[0mobj\u001b[0m \u001b[0;32mis\u001b[0m \u001b[0;32mnot\u001b[0m \u001b[0;32mNone\u001b[0m\u001b[0;34m:\u001b[0m\u001b[0;34m\u001b[0m\u001b[0;34m\u001b[0m\u001b[0m\n",
            "\u001b[0;31mValueError\u001b[0m: data type <class 'numpy.object_'> not inexact"
          ]
        },
        {
          "output_type": "display_data",
          "data": {
            "text/plain": [
              "<Figure size 1000x800 with 4 Axes>"
            ],
            "image/png": "[encoded data removed]"
          },
          "metadata": {}
        }
      ]
    },
    {
      "cell_type": "code",
      "source": [],
      "metadata": {
        "id": "OC2NNoti5NaW"
      },
      "execution_count": null,
      "outputs": []
    }
  ]
}